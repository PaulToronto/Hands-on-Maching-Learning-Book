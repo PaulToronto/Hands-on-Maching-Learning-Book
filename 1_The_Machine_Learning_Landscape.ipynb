{
  "nbformat": 4,
  "nbformat_minor": 0,
  "metadata": {
    "colab": {
      "provenance": [],
      "toc_visible": true,
      "authorship_tag": "ABX9TyN/icEEufRlptZMKgeLgAY2",
      "include_colab_link": true
    },
    "kernelspec": {
      "name": "python3",
      "display_name": "Python 3"
    },
    "language_info": {
      "name": "python"
    }
  },
  "cells": [
    {
      "cell_type": "markdown",
      "metadata": {
        "id": "view-in-github",
        "colab_type": "text"
      },
      "source": [
        "<a href=\"https://colab.research.google.com/github/PaulToronto/Hands-on-Maching-Learning-Book/blob/main/1_The_Machine_Learning_Landscape.ipynb\" target=\"_parent\"><img src=\"https://colab.research.google.com/assets/colab-badge.svg\" alt=\"Open In Colab\"/></a>"
      ]
    },
    {
      "cell_type": "markdown",
      "source": [
        "# The Machine Learning Landscape\n",
        "\n",
        "https://github.com/ageron/\n",
        "\n",
        "https://github.com/ageron/data\n",
        "\n",
        "https://colab.research.google.com/github/ageron/handson-ml3/blob/main/index.ipynb"
      ],
      "metadata": {
        "id": "q_fUkHSMauCc"
      }
    },
    {
      "cell_type": "markdown",
      "source": [
        "## Imports"
      ],
      "metadata": {
        "id": "5EMY-tJLazbP"
      }
    },
    {
      "cell_type": "code",
      "execution_count": 1,
      "metadata": {
        "id": "gAIPsoRXaJZM"
      },
      "outputs": [],
      "source": [
        "import pandas as pd\n",
        "\n",
        "import matplotlib.pyplot as plt\n",
        "\n",
        "from sklearn.linear_model import LinearRegression\n",
        "from sklearn.neighbors import KNeighborsRegressor"
      ]
    },
    {
      "cell_type": "markdown",
      "source": [
        "## What Is Machine Learning?"
      ],
      "metadata": {
        "id": "5nZ0gfGMa57e"
      }
    },
    {
      "cell_type": "markdown",
      "source": [
        "*\\[Machine learning is the\\] field of study that gives computers the ability to learn without being explicitly programmed.*\n",
        "\n",
        "Arthur Samuel, 1959"
      ],
      "metadata": {
        "id": "C3QeN_e1pi8f"
      }
    },
    {
      "cell_type": "markdown",
      "source": [
        "*A computer program is said to learn from experience E with respect to some task T and some performance measure P, if its performance on T, as measured by P, improves with experience E.*\n",
        "\n",
        "Tom Mitchell, 1997"
      ],
      "metadata": {
        "id": "L7c84GMhpldZ"
      }
    },
    {
      "cell_type": "markdown",
      "source": [
        "## Life Satisfaction Example"
      ],
      "metadata": {
        "id": "9LTGEZ1b3BIG"
      }
    },
    {
      "cell_type": "code",
      "source": [
        "lifesat_data = 'https://raw.githubusercontent.com/ageron/data/main/lifesat/lifesat.csv'\n",
        "\n",
        "lifesat = pd.read_csv(lifesat_data)\n",
        "lifesat.info()"
      ],
      "metadata": {
        "colab": {
          "base_uri": "https://localhost:8080/"
        },
        "id": "XmsdWXVr3FA7",
        "outputId": "d4900599-4add-4bf3-98da-fdac52f290ab"
      },
      "execution_count": 2,
      "outputs": [
        {
          "output_type": "stream",
          "name": "stdout",
          "text": [
            "<class 'pandas.core.frame.DataFrame'>\n",
            "RangeIndex: 27 entries, 0 to 26\n",
            "Data columns (total 3 columns):\n",
            " #   Column                Non-Null Count  Dtype  \n",
            "---  ------                --------------  -----  \n",
            " 0   Country               27 non-null     object \n",
            " 1   GDP per capita (USD)  27 non-null     float64\n",
            " 2   Life satisfaction     27 non-null     float64\n",
            "dtypes: float64(2), object(1)\n",
            "memory usage: 776.0+ bytes\n"
          ]
        }
      ]
    },
    {
      "cell_type": "code",
      "source": [
        "lifesat.shape"
      ],
      "metadata": {
        "colab": {
          "base_uri": "https://localhost:8080/"
        },
        "id": "xRb9RhLF3a2r",
        "outputId": "05968938-bbcb-4a5c-ada6-f0fa374fe53e"
      },
      "execution_count": 3,
      "outputs": [
        {
          "output_type": "execute_result",
          "data": {
            "text/plain": [
              "(27, 3)"
            ]
          },
          "metadata": {},
          "execution_count": 3
        }
      ]
    },
    {
      "cell_type": "code",
      "source": [
        "lifesat.sort_values('Life satisfaction').head()"
      ],
      "metadata": {
        "colab": {
          "base_uri": "https://localhost:8080/",
          "height": 206
        },
        "id": "WXF5MM9g3TIY",
        "outputId": "79d7994b-0977-47d7-80ab-b123c2e54413"
      },
      "execution_count": 4,
      "outputs": [
        {
          "output_type": "execute_result",
          "data": {
            "text/plain": [
              "    Country  GDP per capita (USD)  Life satisfaction\n",
              "1    Greece          27287.083401                5.4\n",
              "5  Portugal          32181.154537                5.4\n",
              "2    Turkey          28384.987785                5.5\n",
              "4   Hungary          31007.768407                5.6\n",
              "7   Estonia          35638.421351                5.7"
            ],
            "text/html": [
              "\n",
              "  <div id=\"df-ce137a85-aa6a-4828-a679-828c9ea01a71\" class=\"colab-df-container\">\n",
              "    <div>\n",
              "<style scoped>\n",
              "    .dataframe tbody tr th:only-of-type {\n",
              "        vertical-align: middle;\n",
              "    }\n",
              "\n",
              "    .dataframe tbody tr th {\n",
              "        vertical-align: top;\n",
              "    }\n",
              "\n",
              "    .dataframe thead th {\n",
              "        text-align: right;\n",
              "    }\n",
              "</style>\n",
              "<table border=\"1\" class=\"dataframe\">\n",
              "  <thead>\n",
              "    <tr style=\"text-align: right;\">\n",
              "      <th></th>\n",
              "      <th>Country</th>\n",
              "      <th>GDP per capita (USD)</th>\n",
              "      <th>Life satisfaction</th>\n",
              "    </tr>\n",
              "  </thead>\n",
              "  <tbody>\n",
              "    <tr>\n",
              "      <th>1</th>\n",
              "      <td>Greece</td>\n",
              "      <td>27287.083401</td>\n",
              "      <td>5.4</td>\n",
              "    </tr>\n",
              "    <tr>\n",
              "      <th>5</th>\n",
              "      <td>Portugal</td>\n",
              "      <td>32181.154537</td>\n",
              "      <td>5.4</td>\n",
              "    </tr>\n",
              "    <tr>\n",
              "      <th>2</th>\n",
              "      <td>Turkey</td>\n",
              "      <td>28384.987785</td>\n",
              "      <td>5.5</td>\n",
              "    </tr>\n",
              "    <tr>\n",
              "      <th>4</th>\n",
              "      <td>Hungary</td>\n",
              "      <td>31007.768407</td>\n",
              "      <td>5.6</td>\n",
              "    </tr>\n",
              "    <tr>\n",
              "      <th>7</th>\n",
              "      <td>Estonia</td>\n",
              "      <td>35638.421351</td>\n",
              "      <td>5.7</td>\n",
              "    </tr>\n",
              "  </tbody>\n",
              "</table>\n",
              "</div>\n",
              "    <div class=\"colab-df-buttons\">\n",
              "\n",
              "  <div class=\"colab-df-container\">\n",
              "    <button class=\"colab-df-convert\" onclick=\"convertToInteractive('df-ce137a85-aa6a-4828-a679-828c9ea01a71')\"\n",
              "            title=\"Convert this dataframe to an interactive table.\"\n",
              "            style=\"display:none;\">\n",
              "\n",
              "  <svg xmlns=\"http://www.w3.org/2000/svg\" height=\"24px\" viewBox=\"0 -960 960 960\">\n",
              "    <path d=\"M120-120v-720h720v720H120Zm60-500h600v-160H180v160Zm220 220h160v-160H400v160Zm0 220h160v-160H400v160ZM180-400h160v-160H180v160Zm440 0h160v-160H620v160ZM180-180h160v-160H180v160Zm440 0h160v-160H620v160Z\"/>\n",
              "  </svg>\n",
              "    </button>\n",
              "\n",
              "  <style>\n",
              "    .colab-df-container {\n",
              "      display:flex;\n",
              "      gap: 12px;\n",
              "    }\n",
              "\n",
              "    .colab-df-convert {\n",
              "      background-color: #E8F0FE;\n",
              "      border: none;\n",
              "      border-radius: 50%;\n",
              "      cursor: pointer;\n",
              "      display: none;\n",
              "      fill: #1967D2;\n",
              "      height: 32px;\n",
              "      padding: 0 0 0 0;\n",
              "      width: 32px;\n",
              "    }\n",
              "\n",
              "    .colab-df-convert:hover {\n",
              "      background-color: #E2EBFA;\n",
              "      box-shadow: 0px 1px 2px rgba(60, 64, 67, 0.3), 0px 1px 3px 1px rgba(60, 64, 67, 0.15);\n",
              "      fill: #174EA6;\n",
              "    }\n",
              "\n",
              "    .colab-df-buttons div {\n",
              "      margin-bottom: 4px;\n",
              "    }\n",
              "\n",
              "    [theme=dark] .colab-df-convert {\n",
              "      background-color: #3B4455;\n",
              "      fill: #D2E3FC;\n",
              "    }\n",
              "\n",
              "    [theme=dark] .colab-df-convert:hover {\n",
              "      background-color: #434B5C;\n",
              "      box-shadow: 0px 1px 3px 1px rgba(0, 0, 0, 0.15);\n",
              "      filter: drop-shadow(0px 1px 2px rgba(0, 0, 0, 0.3));\n",
              "      fill: #FFFFFF;\n",
              "    }\n",
              "  </style>\n",
              "\n",
              "    <script>\n",
              "      const buttonEl =\n",
              "        document.querySelector('#df-ce137a85-aa6a-4828-a679-828c9ea01a71 button.colab-df-convert');\n",
              "      buttonEl.style.display =\n",
              "        google.colab.kernel.accessAllowed ? 'block' : 'none';\n",
              "\n",
              "      async function convertToInteractive(key) {\n",
              "        const element = document.querySelector('#df-ce137a85-aa6a-4828-a679-828c9ea01a71');\n",
              "        const dataTable =\n",
              "          await google.colab.kernel.invokeFunction('convertToInteractive',\n",
              "                                                    [key], {});\n",
              "        if (!dataTable) return;\n",
              "\n",
              "        const docLinkHtml = 'Like what you see? Visit the ' +\n",
              "          '<a target=\"_blank\" href=https://colab.research.google.com/notebooks/data_table.ipynb>data table notebook</a>'\n",
              "          + ' to learn more about interactive tables.';\n",
              "        element.innerHTML = '';\n",
              "        dataTable['output_type'] = 'display_data';\n",
              "        await google.colab.output.renderOutput(dataTable, element);\n",
              "        const docLink = document.createElement('div');\n",
              "        docLink.innerHTML = docLinkHtml;\n",
              "        element.appendChild(docLink);\n",
              "      }\n",
              "    </script>\n",
              "  </div>\n",
              "\n",
              "\n",
              "<div id=\"df-2b0504c8-4123-42cd-b033-ae8461f72bee\">\n",
              "  <button class=\"colab-df-quickchart\" onclick=\"quickchart('df-2b0504c8-4123-42cd-b033-ae8461f72bee')\"\n",
              "            title=\"Suggest charts\"\n",
              "            style=\"display:none;\">\n",
              "\n",
              "<svg xmlns=\"http://www.w3.org/2000/svg\" height=\"24px\"viewBox=\"0 0 24 24\"\n",
              "     width=\"24px\">\n",
              "    <g>\n",
              "        <path d=\"M19 3H5c-1.1 0-2 .9-2 2v14c0 1.1.9 2 2 2h14c1.1 0 2-.9 2-2V5c0-1.1-.9-2-2-2zM9 17H7v-7h2v7zm4 0h-2V7h2v10zm4 0h-2v-4h2v4z\"/>\n",
              "    </g>\n",
              "</svg>\n",
              "  </button>\n",
              "\n",
              "<style>\n",
              "  .colab-df-quickchart {\n",
              "      --bg-color: #E8F0FE;\n",
              "      --fill-color: #1967D2;\n",
              "      --hover-bg-color: #E2EBFA;\n",
              "      --hover-fill-color: #174EA6;\n",
              "      --disabled-fill-color: #AAA;\n",
              "      --disabled-bg-color: #DDD;\n",
              "  }\n",
              "\n",
              "  [theme=dark] .colab-df-quickchart {\n",
              "      --bg-color: #3B4455;\n",
              "      --fill-color: #D2E3FC;\n",
              "      --hover-bg-color: #434B5C;\n",
              "      --hover-fill-color: #FFFFFF;\n",
              "      --disabled-bg-color: #3B4455;\n",
              "      --disabled-fill-color: #666;\n",
              "  }\n",
              "\n",
              "  .colab-df-quickchart {\n",
              "    background-color: var(--bg-color);\n",
              "    border: none;\n",
              "    border-radius: 50%;\n",
              "    cursor: pointer;\n",
              "    display: none;\n",
              "    fill: var(--fill-color);\n",
              "    height: 32px;\n",
              "    padding: 0;\n",
              "    width: 32px;\n",
              "  }\n",
              "\n",
              "  .colab-df-quickchart:hover {\n",
              "    background-color: var(--hover-bg-color);\n",
              "    box-shadow: 0 1px 2px rgba(60, 64, 67, 0.3), 0 1px 3px 1px rgba(60, 64, 67, 0.15);\n",
              "    fill: var(--button-hover-fill-color);\n",
              "  }\n",
              "\n",
              "  .colab-df-quickchart-complete:disabled,\n",
              "  .colab-df-quickchart-complete:disabled:hover {\n",
              "    background-color: var(--disabled-bg-color);\n",
              "    fill: var(--disabled-fill-color);\n",
              "    box-shadow: none;\n",
              "  }\n",
              "\n",
              "  .colab-df-spinner {\n",
              "    border: 2px solid var(--fill-color);\n",
              "    border-color: transparent;\n",
              "    border-bottom-color: var(--fill-color);\n",
              "    animation:\n",
              "      spin 1s steps(1) infinite;\n",
              "  }\n",
              "\n",
              "  @keyframes spin {\n",
              "    0% {\n",
              "      border-color: transparent;\n",
              "      border-bottom-color: var(--fill-color);\n",
              "      border-left-color: var(--fill-color);\n",
              "    }\n",
              "    20% {\n",
              "      border-color: transparent;\n",
              "      border-left-color: var(--fill-color);\n",
              "      border-top-color: var(--fill-color);\n",
              "    }\n",
              "    30% {\n",
              "      border-color: transparent;\n",
              "      border-left-color: var(--fill-color);\n",
              "      border-top-color: var(--fill-color);\n",
              "      border-right-color: var(--fill-color);\n",
              "    }\n",
              "    40% {\n",
              "      border-color: transparent;\n",
              "      border-right-color: var(--fill-color);\n",
              "      border-top-color: var(--fill-color);\n",
              "    }\n",
              "    60% {\n",
              "      border-color: transparent;\n",
              "      border-right-color: var(--fill-color);\n",
              "    }\n",
              "    80% {\n",
              "      border-color: transparent;\n",
              "      border-right-color: var(--fill-color);\n",
              "      border-bottom-color: var(--fill-color);\n",
              "    }\n",
              "    90% {\n",
              "      border-color: transparent;\n",
              "      border-bottom-color: var(--fill-color);\n",
              "    }\n",
              "  }\n",
              "</style>\n",
              "\n",
              "  <script>\n",
              "    async function quickchart(key) {\n",
              "      const quickchartButtonEl =\n",
              "        document.querySelector('#' + key + ' button');\n",
              "      quickchartButtonEl.disabled = true;  // To prevent multiple clicks.\n",
              "      quickchartButtonEl.classList.add('colab-df-spinner');\n",
              "      try {\n",
              "        const charts = await google.colab.kernel.invokeFunction(\n",
              "            'suggestCharts', [key], {});\n",
              "      } catch (error) {\n",
              "        console.error('Error during call to suggestCharts:', error);\n",
              "      }\n",
              "      quickchartButtonEl.classList.remove('colab-df-spinner');\n",
              "      quickchartButtonEl.classList.add('colab-df-quickchart-complete');\n",
              "    }\n",
              "    (() => {\n",
              "      let quickchartButtonEl =\n",
              "        document.querySelector('#df-2b0504c8-4123-42cd-b033-ae8461f72bee button');\n",
              "      quickchartButtonEl.style.display =\n",
              "        google.colab.kernel.accessAllowed ? 'block' : 'none';\n",
              "    })();\n",
              "  </script>\n",
              "</div>\n",
              "\n",
              "    </div>\n",
              "  </div>\n"
            ],
            "application/vnd.google.colaboratory.intrinsic+json": {
              "type": "dataframe",
              "summary": "{\n  \"name\": \"lifesat\",\n  \"rows\": 5,\n  \"fields\": [\n    {\n      \"column\": \"Country\",\n      \"properties\": {\n        \"dtype\": \"string\",\n        \"num_unique_values\": 5,\n        \"samples\": [\n          \"Portugal\",\n          \"Estonia\",\n          \"Turkey\"\n        ],\n        \"semantic_type\": \"\",\n        \"description\": \"\"\n      }\n    },\n    {\n      \"column\": \"GDP per capita (USD)\",\n      \"properties\": {\n        \"dtype\": \"number\",\n        \"std\": 3297.1222530426153,\n        \"min\": 27287.0834009302,\n        \"max\": 35638.4213511812,\n        \"num_unique_values\": 5,\n        \"samples\": [\n          32181.1545372343,\n          35638.4213511812,\n          28384.9877846263\n        ],\n        \"semantic_type\": \"\",\n        \"description\": \"\"\n      }\n    },\n    {\n      \"column\": \"Life satisfaction\",\n      \"properties\": {\n        \"dtype\": \"number\",\n        \"std\": 0.13038404810405282,\n        \"min\": 5.4,\n        \"max\": 5.7,\n        \"num_unique_values\": 4,\n        \"samples\": [\n          5.5,\n          5.7,\n          5.4\n        ],\n        \"semantic_type\": \"\",\n        \"description\": \"\"\n      }\n    }\n  ]\n}"
            }
          },
          "metadata": {},
          "execution_count": 4
        }
      ]
    },
    {
      "cell_type": "markdown",
      "source": [
        "### Visualize the Data"
      ],
      "metadata": {
        "id": "2cTNGlsZ41HT"
      }
    },
    {
      "cell_type": "code",
      "source": [
        "lifesat.plot(kind='scatter',\n",
        "             x='GDP per capita (USD)',\n",
        "             y='Life satisfaction',\n",
        "             grid=True)\n",
        "plt.axis([25_000, 62_000, 4, 8])\n",
        "plt.tight_layout()\n",
        "plt.show()"
      ],
      "metadata": {
        "colab": {
          "base_uri": "https://localhost:8080/",
          "height": 487
        },
        "id": "e4OCvOvEQoaF",
        "outputId": "661452d4-9d5a-4565-bc24-e8068816d808"
      },
      "execution_count": 5,
      "outputs": [
        {
          "output_type": "display_data",
          "data": {
            "text/plain": [
              "<Figure size 640x480 with 1 Axes>"
            ],
            "image/png": "[encoded data removed]"
          },
          "metadata": {}
        }
      ]
    },
    {
      "cell_type": "markdown",
      "source": [
        "### Two Regression Models"
      ],
      "metadata": {
        "id": "lNLFdU1w5yKK"
      }
    },
    {
      "cell_type": "code",
      "source": [
        "X = lifesat[['GDP per capita (USD)']]\n",
        "y = lifesat['Life satisfaction']"
      ],
      "metadata": {
        "id": "IGOX5Xqj7tOj"
      },
      "execution_count": 6,
      "outputs": []
    },
    {
      "cell_type": "markdown",
      "source": [
        "#### `LinearRegression()`"
      ],
      "metadata": {
        "id": "-OfTzasLHH9V"
      }
    },
    {
      "cell_type": "code",
      "source": [
        "# select a model\n",
        "lr_model = LinearRegression()\n",
        "# train the model\n",
        "lr_model.fit(X, y)"
      ],
      "metadata": {
        "colab": {
          "base_uri": "https://localhost:8080/",
          "height": 75
        },
        "id": "_g28rWPm72Lu",
        "outputId": "9d011f87-4d30-4001-fd4e-700a6e484187"
      },
      "execution_count": 7,
      "outputs": [
        {
          "output_type": "execute_result",
          "data": {
            "text/plain": [
              "LinearRegression()"
            ],
            "text/html": [
              "<style>#sk-container-id-1 {color: black;background-color: white;}#sk-container-id-1 pre{padding: 0;}#sk-container-id-1 div.sk-toggleable {background-color: white;}#sk-container-id-1 label.sk-toggleable__label {cursor: pointer;display: block;width: 100%;margin-bottom: 0;padding: 0.3em;box-sizing: border-box;text-align: center;}#sk-container-id-1 label.sk-toggleable__label-arrow:before {content: \"▸\";float: left;margin-right: 0.25em;color: #696969;}#sk-container-id-1 label.sk-toggleable__label-arrow:hover:before {color: black;}#sk-container-id-1 div.sk-estimator:hover label.sk-toggleable__label-arrow:before {color: black;}#sk-container-id-1 div.sk-toggleable__content {max-height: 0;max-width: 0;overflow: hidden;text-align: left;background-color: #f0f8ff;}#sk-container-id-1 div.sk-toggleable__content pre {margin: 0.2em;color: black;border-radius: 0.25em;background-color: #f0f8ff;}#sk-container-id-1 input.sk-toggleable__control:checked~div.sk-toggleable__content {max-height: 200px;max-width: 100%;overflow: auto;}#sk-container-id-1 input.sk-toggleable__control:checked~label.sk-toggleable__label-arrow:before {content: \"▾\";}#sk-container-id-1 div.sk-estimator input.sk-toggleable__control:checked~label.sk-toggleable__label {background-color: #d4ebff;}#sk-container-id-1 div.sk-label input.sk-toggleable__control:checked~label.sk-toggleable__label {background-color: #d4ebff;}#sk-container-id-1 input.sk-hidden--visually {border: 0;clip: rect(1px 1px 1px 1px);clip: rect(1px, 1px, 1px, 1px);height: 1px;margin: -1px;overflow: hidden;padding: 0;position: absolute;width: 1px;}#sk-container-id-1 div.sk-estimator {font-family: monospace;background-color: #f0f8ff;border: 1px dotted black;border-radius: 0.25em;box-sizing: border-box;margin-bottom: 0.5em;}#sk-container-id-1 div.sk-estimator:hover {background-color: #d4ebff;}#sk-container-id-1 div.sk-parallel-item::after {content: \"\";width: 100%;border-bottom: 1px solid gray;flex-grow: 1;}#sk-container-id-1 div.sk-label:hover label.sk-toggleable__label {background-color: #d4ebff;}#sk-container-id-1 div.sk-serial::before {content: \"\";position: absolute;border-left: 1px solid gray;box-sizing: border-box;top: 0;bottom: 0;left: 50%;z-index: 0;}#sk-container-id-1 div.sk-serial {display: flex;flex-direction: column;align-items: center;background-color: white;padding-right: 0.2em;padding-left: 0.2em;position: relative;}#sk-container-id-1 div.sk-item {position: relative;z-index: 1;}#sk-container-id-1 div.sk-parallel {display: flex;align-items: stretch;justify-content: center;background-color: white;position: relative;}#sk-container-id-1 div.sk-item::before, #sk-container-id-1 div.sk-parallel-item::before {content: \"\";position: absolute;border-left: 1px solid gray;box-sizing: border-box;top: 0;bottom: 0;left: 50%;z-index: -1;}#sk-container-id-1 div.sk-parallel-item {display: flex;flex-direction: column;z-index: 1;position: relative;background-color: white;}#sk-container-id-1 div.sk-parallel-item:first-child::after {align-self: flex-end;width: 50%;}#sk-container-id-1 div.sk-parallel-item:last-child::after {align-self: flex-start;width: 50%;}#sk-container-id-1 div.sk-parallel-item:only-child::after {width: 0;}#sk-container-id-1 div.sk-dashed-wrapped {border: 1px dashed gray;margin: 0 0.4em 0.5em 0.4em;box-sizing: border-box;padding-bottom: 0.4em;background-color: white;}#sk-container-id-1 div.sk-label label {font-family: monospace;font-weight: bold;display: inline-block;line-height: 1.2em;}#sk-container-id-1 div.sk-label-container {text-align: center;}#sk-container-id-1 div.sk-container {/* jupyter's `normalize.less` sets `[hidden] { display: none; }` but bootstrap.min.css set `[hidden] { display: none !important; }` so we also need the `!important` here to be able to override the default hidden behavior on the sphinx rendered scikit-learn.org. See: https://github.com/scikit-learn/scikit-learn/issues/21755 */display: inline-block !important;position: relative;}#sk-container-id-1 div.sk-text-repr-fallback {display: none;}</style><div id=\"sk-container-id-1\" class=\"sk-top-container\"><div class=\"sk-text-repr-fallback\"><pre>LinearRegression()</pre><b>In a Jupyter environment, please rerun this cell to show the HTML representation or trust the notebook. <br />On GitHub, the HTML representation is unable to render, please try loading this page with nbviewer.org.</b></div><div class=\"sk-container\" hidden><div class=\"sk-item\"><div class=\"sk-estimator sk-toggleable\"><input class=\"sk-toggleable__control sk-hidden--visually\" id=\"sk-estimator-id-1\" type=\"checkbox\" checked><label for=\"sk-estimator-id-1\" class=\"sk-toggleable__label sk-toggleable__label-arrow\">LinearRegression</label><div class=\"sk-toggleable__content\"><pre>LinearRegression()</pre></div></div></div></div></div>"
            ]
          },
          "metadata": {},
          "execution_count": 7
        }
      ]
    },
    {
      "cell_type": "code",
      "source": [
        "lr_model.coef_"
      ],
      "metadata": {
        "id": "HPJvElA5825P",
        "colab": {
          "base_uri": "https://localhost:8080/"
        },
        "outputId": "37bd98fb-5acc-4c9f-df28-9527b51e65fa"
      },
      "execution_count": 8,
      "outputs": [
        {
          "output_type": "execute_result",
          "data": {
            "text/plain": [
              "array([6.77889969e-05])"
            ]
          },
          "metadata": {},
          "execution_count": 8
        }
      ]
    },
    {
      "cell_type": "code",
      "source": [
        "lr_model.intercept_"
      ],
      "metadata": {
        "colab": {
          "base_uri": "https://localhost:8080/"
        },
        "id": "UNRd-ex7JjFK",
        "outputId": "c2be6dac-d0ed-4662-953c-dc18802e6d0b"
      },
      "execution_count": 9,
      "outputs": [
        {
          "output_type": "execute_result",
          "data": {
            "text/plain": [
              "3.7490494273769093"
            ]
          },
          "metadata": {},
          "execution_count": 9
        }
      ]
    },
    {
      "cell_type": "markdown",
      "source": [
        "#### `KNeighborsRegressor(n_neighbors=3)`"
      ],
      "metadata": {
        "id": "0ziVfjIbMPuq"
      }
    },
    {
      "cell_type": "code",
      "source": [
        "# select a model\n",
        "kn_model = KNeighborsRegressor(n_neighbors=3)\n",
        "# train the model\n",
        "kn_model.fit(X, y)"
      ],
      "metadata": {
        "colab": {
          "base_uri": "https://localhost:8080/",
          "height": 75
        },
        "id": "B7rCKDlIMbq7",
        "outputId": "feddf154-4fe2-40e8-f37f-2577d40d6b2f"
      },
      "execution_count": 10,
      "outputs": [
        {
          "output_type": "execute_result",
          "data": {
            "text/plain": [
              "KNeighborsRegressor(n_neighbors=3)"
            ],
            "text/html": [
              "<style>#sk-container-id-2 {color: black;background-color: white;}#sk-container-id-2 pre{padding: 0;}#sk-container-id-2 div.sk-toggleable {background-color: white;}#sk-container-id-2 label.sk-toggleable__label {cursor: pointer;display: block;width: 100%;margin-bottom: 0;padding: 0.3em;box-sizing: border-box;text-align: center;}#sk-container-id-2 label.sk-toggleable__label-arrow:before {content: \"▸\";float: left;margin-right: 0.25em;color: #696969;}#sk-container-id-2 label.sk-toggleable__label-arrow:hover:before {color: black;}#sk-container-id-2 div.sk-estimator:hover label.sk-toggleable__label-arrow:before {color: black;}#sk-container-id-2 div.sk-toggleable__content {max-height: 0;max-width: 0;overflow: hidden;text-align: left;background-color: #f0f8ff;}#sk-container-id-2 div.sk-toggleable__content pre {margin: 0.2em;color: black;border-radius: 0.25em;background-color: #f0f8ff;}#sk-container-id-2 input.sk-toggleable__control:checked~div.sk-toggleable__content {max-height: 200px;max-width: 100%;overflow: auto;}#sk-container-id-2 input.sk-toggleable__control:checked~label.sk-toggleable__label-arrow:before {content: \"▾\";}#sk-container-id-2 div.sk-estimator input.sk-toggleable__control:checked~label.sk-toggleable__label {background-color: #d4ebff;}#sk-container-id-2 div.sk-label input.sk-toggleable__control:checked~label.sk-toggleable__label {background-color: #d4ebff;}#sk-container-id-2 input.sk-hidden--visually {border: 0;clip: rect(1px 1px 1px 1px);clip: rect(1px, 1px, 1px, 1px);height: 1px;margin: -1px;overflow: hidden;padding: 0;position: absolute;width: 1px;}#sk-container-id-2 div.sk-estimator {font-family: monospace;background-color: #f0f8ff;border: 1px dotted black;border-radius: 0.25em;box-sizing: border-box;margin-bottom: 0.5em;}#sk-container-id-2 div.sk-estimator:hover {background-color: #d4ebff;}#sk-container-id-2 div.sk-parallel-item::after {content: \"\";width: 100%;border-bottom: 1px solid gray;flex-grow: 1;}#sk-container-id-2 div.sk-label:hover label.sk-toggleable__label {background-color: #d4ebff;}#sk-container-id-2 div.sk-serial::before {content: \"\";position: absolute;border-left: 1px solid gray;box-sizing: border-box;top: 0;bottom: 0;left: 50%;z-index: 0;}#sk-container-id-2 div.sk-serial {display: flex;flex-direction: column;align-items: center;background-color: white;padding-right: 0.2em;padding-left: 0.2em;position: relative;}#sk-container-id-2 div.sk-item {position: relative;z-index: 1;}#sk-container-id-2 div.sk-parallel {display: flex;align-items: stretch;justify-content: center;background-color: white;position: relative;}#sk-container-id-2 div.sk-item::before, #sk-container-id-2 div.sk-parallel-item::before {content: \"\";position: absolute;border-left: 1px solid gray;box-sizing: border-box;top: 0;bottom: 0;left: 50%;z-index: -1;}#sk-container-id-2 div.sk-parallel-item {display: flex;flex-direction: column;z-index: 1;position: relative;background-color: white;}#sk-container-id-2 div.sk-parallel-item:first-child::after {align-self: flex-end;width: 50%;}#sk-container-id-2 div.sk-parallel-item:last-child::after {align-self: flex-start;width: 50%;}#sk-container-id-2 div.sk-parallel-item:only-child::after {width: 0;}#sk-container-id-2 div.sk-dashed-wrapped {border: 1px dashed gray;margin: 0 0.4em 0.5em 0.4em;box-sizing: border-box;padding-bottom: 0.4em;background-color: white;}#sk-container-id-2 div.sk-label label {font-family: monospace;font-weight: bold;display: inline-block;line-height: 1.2em;}#sk-container-id-2 div.sk-label-container {text-align: center;}#sk-container-id-2 div.sk-container {/* jupyter's `normalize.less` sets `[hidden] { display: none; }` but bootstrap.min.css set `[hidden] { display: none !important; }` so we also need the `!important` here to be able to override the default hidden behavior on the sphinx rendered scikit-learn.org. See: https://github.com/scikit-learn/scikit-learn/issues/21755 */display: inline-block !important;position: relative;}#sk-container-id-2 div.sk-text-repr-fallback {display: none;}</style><div id=\"sk-container-id-2\" class=\"sk-top-container\"><div class=\"sk-text-repr-fallback\"><pre>KNeighborsRegressor(n_neighbors=3)</pre><b>In a Jupyter environment, please rerun this cell to show the HTML representation or trust the notebook. <br />On GitHub, the HTML representation is unable to render, please try loading this page with nbviewer.org.</b></div><div class=\"sk-container\" hidden><div class=\"sk-item\"><div class=\"sk-estimator sk-toggleable\"><input class=\"sk-toggleable__control sk-hidden--visually\" id=\"sk-estimator-id-2\" type=\"checkbox\" checked><label for=\"sk-estimator-id-2\" class=\"sk-toggleable__label sk-toggleable__label-arrow\">KNeighborsRegressor</label><div class=\"sk-toggleable__content\"><pre>KNeighborsRegressor(n_neighbors=3)</pre></div></div></div></div></div>"
            ]
          },
          "metadata": {},
          "execution_count": 10
        }
      ]
    },
    {
      "cell_type": "markdown",
      "source": [
        "#### Visualize the fit of each model\n",
        "\n",
        "Includes the prediction for Cyprus which has a gdp of `$37,655.20 USD`"
      ],
      "metadata": {
        "id": "Qvn_1EC8L1_x"
      }
    },
    {
      "cell_type": "code",
      "source": [
        "cyprus_gdp = [[37655.2]]"
      ],
      "metadata": {
        "id": "W1Nu-ZnaN0pg"
      },
      "execution_count": 11,
      "outputs": []
    },
    {
      "cell_type": "code",
      "source": [
        "lr_fitted = lr_model.predict(X)\n",
        "lr_fitted"
      ],
      "metadata": {
        "colab": {
          "base_uri": "https://localhost:8080/"
        },
        "id": "RvIkPppETg_H",
        "outputId": "d7b6270c-f6ca-4e5a-ac89-0926a3f88350"
      },
      "execution_count": 12,
      "outputs": [
        {
          "output_type": "execute_result",
          "data": {
            "text/plain": [
              "array([5.54250143, 5.59881344, 5.67323928, 5.77814317, 5.85103495,\n",
              "       5.93057761, 5.93444177, 6.16494226, 6.20405829, 6.22658399,\n",
              "       6.23907722, 6.34816821, 6.39228805, 6.57091077, 6.59792388,\n",
              "       6.62360074, 6.85762408, 6.95281169, 7.01715921, 7.05022695,\n",
              "       7.18482109, 7.201025  , 7.26971192, 7.29303981, 7.42386138,\n",
              "       7.54104476, 7.83236904])"
            ]
          },
          "metadata": {},
          "execution_count": 12
        }
      ]
    },
    {
      "cell_type": "code",
      "source": [
        "lr_cyprus_prediction = lr_model.predict(cyprus_gdp)\n",
        "lr_cyprus_prediction"
      ],
      "metadata": {
        "colab": {
          "base_uri": "https://localhost:8080/"
        },
        "id": "RLxdbFC2TmNG",
        "outputId": "3d2a520f-e874-4ea5-973c-57ba7c0143de"
      },
      "execution_count": 13,
      "outputs": [
        {
          "output_type": "stream",
          "name": "stderr",
          "text": [
            "/usr/local/lib/python3.10/dist-packages/sklearn/base.py:439: UserWarning: X does not have valid feature names, but LinearRegression was fitted with feature names\n",
            "  warnings.warn(\n"
          ]
        },
        {
          "output_type": "execute_result",
          "data": {
            "text/plain": [
              "array([6.30165767])"
            ]
          },
          "metadata": {},
          "execution_count": 13
        }
      ]
    },
    {
      "cell_type": "code",
      "source": [
        "# this is one way to avoid the above error\n",
        "lr_cyprus_prediction = lr_model.predict(pd.DataFrame({'GDP per capita (USD)':\n",
        "                                                      cyprus_gdp[0]}))\n",
        "lr_cyprus_prediction"
      ],
      "metadata": {
        "colab": {
          "base_uri": "https://localhost:8080/"
        },
        "id": "f8qwHt8jUEqP",
        "outputId": "a659541a-49e0-4e08-de74-458ae930bec2"
      },
      "execution_count": 14,
      "outputs": [
        {
          "output_type": "execute_result",
          "data": {
            "text/plain": [
              "array([6.30165767])"
            ]
          },
          "metadata": {},
          "execution_count": 14
        }
      ]
    },
    {
      "cell_type": "code",
      "source": [
        "kn_fitted = kn_model.predict(X)\n",
        "kn_fitted"
      ],
      "metadata": {
        "colab": {
          "base_uri": "https://localhost:8080/"
        },
        "id": "V4ZiCHmSVus_",
        "outputId": "3d30fc15-aa5e-44fa-9861-cd03e32725f7"
      },
      "execution_count": 15,
      "outputs": [
        {
          "output_type": "execute_result",
          "data": {
            "text/plain": [
              "array([5.56666667, 5.56666667, 5.6       , 5.66666667, 5.63333333,\n",
              "       5.7       , 5.7       , 5.96666667, 6.03333333, 6.03333333,\n",
              "       6.03333333, 6.36666667, 6.36666667, 6.86666667, 6.86666667,\n",
              "       6.86666667, 7.3       , 7.3       , 7.26666667, 7.26666667,\n",
              "       7.13333333, 7.13333333, 7.2       , 7.2       , 7.5       ,\n",
              "       7.5       , 7.3       ])"
            ]
          },
          "metadata": {},
          "execution_count": 15
        }
      ]
    },
    {
      "cell_type": "code",
      "source": [
        "kn_cyprus_prediction = kn_model.predict(pd.DataFrame({'GDP per capita (USD)':\n",
        "                                                      cyprus_gdp[0]}))\n",
        "kn_cyprus_prediction"
      ],
      "metadata": {
        "colab": {
          "base_uri": "https://localhost:8080/"
        },
        "id": "LxQJSdRANGpQ",
        "outputId": "ee014eae-810f-419e-b2f6-a6a07dce1979"
      },
      "execution_count": 16,
      "outputs": [
        {
          "output_type": "execute_result",
          "data": {
            "text/plain": [
              "array([6.33333333])"
            ]
          },
          "metadata": {},
          "execution_count": 16
        }
      ]
    },
    {
      "cell_type": "code",
      "source": [
        "# plot the data\n",
        "ax = lifesat.plot(kind='scatter',\n",
        "                  x='GDP per capita (USD)',\n",
        "                  y='Life satisfaction',\n",
        "                  grid=True,\n",
        "                  label='Raw Data')\n",
        "\n",
        "# vertical orange line for the Cyprus GDP\n",
        "ax.axvline(cyprus_gdp, color='orange', label='Cyprus GDP')\n",
        "\n",
        "# plot lr_fitted\n",
        "plt.plot(X,\n",
        "         lr_fitted,\n",
        "         color='red',\n",
        "         linewidth=5,\n",
        "         label='lr_model_fitted')\n",
        "\n",
        "# plot using lr_model.coef_ and lr_model.intercept_\n",
        "plt.plot(X,\n",
        "         lr_model.coef_ * X + lr_model.intercept_,\n",
        "         color='lime',\n",
        "         linewidth=2,\n",
        "         label=rf'{lr_model.coef_[0].round(7)} $\\times$ GDP + {lr_model.intercept_.round(2)}')\n",
        "\n",
        "# plot the lr_cyprus_prediction\n",
        "plt.scatter(cyprus_gdp,\n",
        "            lr_cyprus_prediction,\n",
        "            color='purple',\n",
        "            marker='x',\n",
        "            s=200,\n",
        "            label='lr_cyprus_prediction',\n",
        "            zorder=100)\n",
        "\n",
        "# plot kn_fitted\n",
        "plt.plot(X,\n",
        "         kn_fitted,\n",
        "         color='dodgerblue',\n",
        "         linewidth=3,\n",
        "         label='kn_model_fitted')\n",
        "\n",
        "# plot the kn_cyprus_prediction\n",
        "plt.scatter(cyprus_gdp,\n",
        "            lr_cyprus_prediction,\n",
        "            color='cyan',\n",
        "            marker='+',\n",
        "            s=200,\n",
        "            label='kn_cyprus_prediction',\n",
        "            zorder=101)\n",
        "\n",
        "plt.axis([25_000, 60_000, 4, 9])\n",
        "plt.tight_layout()\n",
        "plt.legend()\n",
        "plt.show()"
      ],
      "metadata": {
        "colab": {
          "base_uri": "https://localhost:8080/",
          "height": 487
        },
        "id": "R8lE4QOcZ-O8",
        "outputId": "61150493-6c92-4314-c570-c38569b2f873"
      },
      "execution_count": 17,
      "outputs": [
        {
          "output_type": "display_data",
          "data": {
            "text/plain": [
              "<Figure size 640x480 with 1 Axes>"
            ],
            "image/png": "[encoded data removed]"
          },
          "metadata": {}
        }
      ]
    },
    {
      "cell_type": "markdown",
      "source": [
        "## Some Terminology\n",
        "\n",
        "- ***Model*** : the part of a machine learning system that learns and makes predictions\n",
        "- ***Supervised learning*** : the training set includes categorical labels or numeric targets\n",
        "    - includes:\n",
        "        - **classification**: labels are the *classes*\n",
        "        - **regression**: sometimes the term *target* is used instead of *label*\n",
        "- ***Unsupervised learning*** : there are no labels\n",
        "    - includes:\n",
        "        - **clustering**\n",
        "        - **visualization algorithms**\n",
        "        - **dimensionality reduction**\n",
        "        - **anomaly detection** and **novelty detection**\n",
        "        - **association rule learning**: example, customers who buy BBQ sauce and potato chips also tend to buy steak\n",
        "- ***Semi-supervised learning***\n",
        "    - used when only some of the data has labels\n",
        "    - example: Google photos recognizes that there are distinct individuals in a set of photos, person A, person B, etc. Once the end user tags one of the photos with person A the identity of that person is known in the rest of the photos with person A\n",
        "- ***Self-supervised learning***: starts with fully unlabeled dataset, then uses generated labels\n",
        "- ***Transfer learning*** : transferring knowledge from one task to another\n",
        "- ***Reinforcment learning***: an **agent** can observe the environment, select and perform actions and get **rewards** (or **penalties**). It must then learn by itself what is the best strategy, called a **policy** to get the most reward over time. A policy defines what action the agent should choose in a given situation. The policy gets updated as part of the learning process.\n",
        "- ***Batch learning*** : the system is incapable of learning incrementally. It must be trained using all the available data. The system is trained and when launched ir runs without learning anymore. This is also called **offline learning**. A model's performance tends to decay over time. This is called **model rot** or **data drift**. The solution is to regularly retrain the model on up-to-date data.\n",
        "- ***Online learning*** :\n",
        "    - this is the opposite of batch learning. The system is trained incrementally. It is trained with either individually or in small groups called **mini-batches**.\n",
        "    - an important parameter of online learning is the **learning rate**\n",
        "        - a high learning rate adapts to new data quickly, but also tends to forget old data quickly\n",
        "        - a low learning rate adapt to new data slowly, but is also less sensitive to noise in the new data\n",
        "        - the model's performance could decline quickly if fed bad data, so it is important to monitor these systems closely. An anomaly detection algorithm could help with this\n",
        "- ***Instance-based learning*** : the system learns the examples by heart, then, using a similarity measure, classifies new examples\n",
        "- ***Model-based learning*** : uses a model to make predictions\n",
        "- ***Feature selection*** : selecting the most useful features to train on among existing features\n",
        "- ***Feature extraction*** : combining existing features to produce a more useful one\n",
        "    - example: dimensionality reduction\n",
        "- ***Hyperparameter*** : a parameter of the learning algorithm (not of the model)\n",
        "    - must be set prior to training and remains constant during training\n",
        "- ***Overfitting*** : the model performs well on the training data but does not generalize well\n",
        "    - happens when the model is too complex relative to the amount of noisiness of the training data\n",
        "    - possible solutions:\n",
        "        - simplify the model\n",
        "            - select one with fewer parameters (linear model rather than a high-degree polynomial model)\n",
        "            - reduce the number of features from the training data\n",
        "            - constrain the model (regularization, reduce degrees of freedom)\n",
        "        - gather more training data\n",
        "        - reduce the noise in the training data\n",
        "            - fix data errors, remove outliers\n",
        "- ***Underfitting*** : occurs when the model is too simple to learn the underlying structure of the data\n",
        "    - possible solutions:\n",
        "        - select a more powerful model with more parameters\n",
        "        - feed better features to the learning algorithm (feature engineering)\n",
        "        - reduce the constraints on the model\n",
        "- ***Regularization*** : constraining a model to maker it simpler and reduce the risk of overfitting\n",
        "    - example: reduce the degrees of freedom by setting the slope to 0 and only let the the intercept vary, meaning the line can only move up or down. That might be too much, maybe instead of setting the slope to 0, just restrain it to keep it small. In that case it will have somewhere between 1 and 2 degrees of freedom.\n",
        "    - the amount of regularization can be controlled by a hyperparameter."
      ],
      "metadata": {
        "id": "R2SgSEvlRI77"
      }
    },
    {
      "cell_type": "markdown",
      "source": [
        "## Testing and Validating\n",
        "\n",
        "- training set\n",
        "- test set\n",
        "    - The error rate on new cases is called the ***generalization error*** or the ***out-of-sample error***\n",
        "    - the test set gives an estimate of this error\n",
        "    - this value tells you how well your model will perform on instances it has never seen before\n",
        "- if the training error is low, but the generalization is high, it means your model is overfitting on the training data"
      ],
      "metadata": {
        "id": "8z9PR1buRST8"
      }
    },
    {
      "cell_type": "markdown",
      "source": [
        "## Hyperparameter Tuning and Model Selection\n",
        "\n",
        "- validation set (or development set or dev set)\n",
        "  - train multiple models with various hyperprameters on the reduced training set (training set minus validation set)\n",
        "  - select the model that performs best on the validation set\n",
        "  - then train the model on the full training set (including the validation set)\n",
        "    - evaluate this model on the test set to get an estimate of the generalization error\n",
        "- cross-validation\n",
        "  - perform repeated cross-validation using many small validation sets\n",
        "  - each model is evaluated once per validation after it is trained on the rest of the data\n",
        "  - by averaging out all the evaluations of a model, you get a much more accurate measure of its performance\n",
        "- a **train-dev set** is used when there is a risk of mismatch between the training data and the data used in the validation and test sets\n"
      ],
      "metadata": {
        "id": "nfM66zRnRUK0"
      }
    }
  ]
}